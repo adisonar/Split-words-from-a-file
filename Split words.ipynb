{
 "cells": [
  {
   "cell_type": "code",
   "execution_count": null,
   "metadata": {},
   "outputs": [],
   "source": [
    "#Open the file romeo.txt and read it line by line. \n",
    "#For each line, split the line into a list of words using the split() method.\n",
    "#The program should build a list of words. For each word on each line check to see if the word is already in the list and if not append it to the list.\n",
    "#When the program completes, sort and print the resulting words in alphabetical order.\n",
    "\n",
    "fname = input(\"Enter file name: \")\n",
    "fh = open(fname)\n",
    "lst = list()\n",
    "for line in fh:\n",
    "\tline = line.split()\n",
    "\tfor word in line:\n",
    "\t\tif word not in lst:\n",
    "\t\t\tlst.append(word)\n",
    "            \n",
    "lst.sort()\n",
    "print(lst)\n",
    "        "
   ]
  }
 ],
 "metadata": {
  "kernelspec": {
   "display_name": "Python 3",
   "language": "python",
   "name": "python3"
  },
  "language_info": {
   "codemirror_mode": {
    "name": "ipython",
    "version": 3
   },
   "file_extension": ".py",
   "mimetype": "text/x-python",
   "name": "python",
   "nbconvert_exporter": "python",
   "pygments_lexer": "ipython3",
   "version": "3.7.6"
  }
 },
 "nbformat": 4,
 "nbformat_minor": 4
}
